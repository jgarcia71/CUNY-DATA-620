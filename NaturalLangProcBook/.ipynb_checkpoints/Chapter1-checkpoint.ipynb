{
 "cells": [
  {
   "cell_type": "markdown",
   "metadata": {},
   "source": [
    "# Chapter 1\n",
    "\n",
    "Work from _Natural Language Processing with Python_ by Steven Bird, Ewan Klein, and Edward Loper"
   ]
  },
  {
   "cell_type": "markdown",
   "metadata": {},
   "source": [
    "## Load up NLTK"
   ]
  },
  {
   "cell_type": "code",
   "execution_count": 1,
   "metadata": {
    "collapsed": false
   },
   "outputs": [
    {
     "name": "stdout",
     "output_type": "stream",
     "text": [
      "*** Introductory Examples for the NLTK Book ***\n",
      "Loading text1, ..., text9 and sent1, ..., sent9\n",
      "Type the name of the text or sentence to view it.\n",
      "Type: 'texts()' or 'sents()' to list the materials.\n",
      "text1: Moby Dick by Herman Melville 1851\n",
      "text2: Sense and Sensibility by Jane Austen 1811\n",
      "text3: The Book of Genesis\n",
      "text4: Inaugural Address Corpus\n",
      "text5: Chat Corpus\n",
      "text6: Monty Python and the Holy Grail\n",
      "text7: Wall Street Journal\n",
      "text8: Personals Corpus\n",
      "text9: The Man Who Was Thursday by G . K . Chesterton 1908\n"
     ]
    }
   ],
   "source": [
    "import nltk\n",
    "from nltk.book import *"
   ]
  },
  {
   "cell_type": "markdown",
   "metadata": {},
   "source": [
    "## Text Info and Searching"
   ]
  },
  {
   "cell_type": "markdown",
   "metadata": {},
   "source": [
    "Show info about the corpus"
   ]
  },
  {
   "cell_type": "code",
   "execution_count": 3,
   "metadata": {
    "collapsed": false
   },
   "outputs": [
    {
     "data": {
      "text/plain": [
       "<Text: Moby Dick by Herman Melville 1851>"
      ]
     },
     "execution_count": 3,
     "metadata": {},
     "output_type": "execute_result"
    }
   ],
   "source": [
    "text1"
   ]
  },
  {
   "cell_type": "code",
   "execution_count": 4,
   "metadata": {
    "collapsed": false
   },
   "outputs": [
    {
     "data": {
      "text/plain": [
       "<Text: Chat Corpus>"
      ]
     },
     "execution_count": 4,
     "metadata": {},
     "output_type": "execute_result"
    }
   ],
   "source": [
    "text5"
   ]
  },
  {
   "cell_type": "markdown",
   "metadata": {},
   "source": [
    "Show where a given word occurs in a given corpus"
   ]
  },
  {
   "cell_type": "code",
   "execution_count": 5,
   "metadata": {
    "collapsed": false
   },
   "outputs": [
    {
     "name": "stdout",
     "output_type": "stream",
     "text": [
      "Displaying 25 of 27 matches:\n",
      "kerfeldt , currently vice president finance , will succeed Mr. McAlpine . An am\n",
      "ctober to $ 84.29 billion *U* , the Finance Ministry said 0 *T*-2 . The total m\n",
      "n Japan . The Thai cabinet endorsed Finance Minister Pramual Sabhavasu 's propo\n",
      "secret of it . The city 's Campaign Finance Board has refused *-1 to pay Mr. Di\n",
      "xample of a profession in trade and finance ... . At the end of World War II , \n",
      "The rest were history , sociology , finance -- subjects 0 they never had *T*-1 \n",
      "uty assistant secretary for federal finance , said 0 the Treasury may wait unti\n",
      "ed million '' dollars in equity and finance the remainder with bank debt . He a\n",
      " his troubles in Japan . The Senate Finance Committee , chaired * by a fellow T\n",
      "latility , said 0 he told the House finance and telecommunications subcommittee\n",
      "tyle stock-index futures . Japan 's Finance Ministry already is scrutinizing in\n",
      "i , vice minister for international finance . Program trading has taken off in \n",
      " to prevent such a swing . Japan 's Finance Ministry had set up mechanisms 0 *-\n",
      ". `` Maybe it was n't enough , '' a Finance Ministry official noted *T*-1 after\n",
      "r , buyers who *T*-53 wanted *-1 to finance part of a car purchase through Gene\n",
      "ding and state disclosure laws over finance rates , says *T*-2 a spokesman for \n",
      ", says *T*-2 a spokesman for the GM finance arm . But GMAC approved the Buick p\n",
      "billing , and so does n't carry any finance rates . Mr. Riese says 0 American E\n",
      "entage point off GMAC 's advertised finance rates , which *T*-56 start at 6.9 %\n",
      "Citicorp 's Citibank and Mitsubishi Finance International . If the banks exhaus\n",
      "ays 0 *T*-1 a Vanderbilt University finance professor , Hans Stoll , an authori\n",
      " 6.03 % less full fees , via Mitsui Finance International . * Guaranteed *-1 by\n",
      " time , on whether they want *-2 to finance the building schemes of our modern \n",
      "ellar credit standing required * to finance their activities profitably . Secur\n",
      "IOUs , which they sell *T*-1 *-2 to finance their daily operations . The bigges\n"
     ]
    }
   ],
   "source": [
    "text7.concordance(\"finance\")"
   ]
  },
  {
   "cell_type": "markdown",
   "metadata": {},
   "source": [
    "Find words with similar contexts (word neighbors) to a given word in a given corpus"
   ]
  },
  {
   "cell_type": "code",
   "execution_count": 6,
   "metadata": {
    "collapsed": false
   },
   "outputs": [
    {
     "name": "stdout",
     "output_type": "stream",
     "text": [
      "join part hi hey and wb ty yeah hiya lmao well oh ok hello all what\n",
      "haha yes no you\n"
     ]
    }
   ],
   "source": [
    "text5.similar(\"lol\")"
   ]
  },
  {
   "cell_type": "markdown",
   "metadata": {},
   "source": [
    "What are the common contexts?  Show them!"
   ]
  },
  {
   "cell_type": "code",
   "execution_count": 11,
   "metadata": {
    "collapsed": false
   },
   "outputs": [
    {
     "name": "stdout",
     "output_type": "stream",
     "text": [
      "hi_part lol_join ty_part me_i part_part part_i join_part lol_part\n",
      "hi_join hi_hey lol_there join_hi join_i female_part part_join hi_hi\n",
      "hey_i yes_oh bye_what shower_action\n"
     ]
    }
   ],
   "source": [
    "text5.common_contexts([\"lol\",\"hey\"])"
   ]
  },
  {
   "cell_type": "markdown",
   "metadata": {},
   "source": [
    "Make a plot of where words appear in a corpus (note -- opens in new window!)"
   ]
  },
  {
   "cell_type": "code",
   "execution_count": 16,
   "metadata": {
    "collapsed": false
   },
   "outputs": [],
   "source": [
    "text7.dispersion_plot([\"profit\",\"loss\",\"investment\",\"market\"])"
   ]
  },
  {
   "cell_type": "code",
   "execution_count": null,
   "metadata": {
    "collapsed": true
   },
   "outputs": [],
   "source": []
  }
 ],
 "metadata": {
  "kernelspec": {
   "display_name": "Python 2",
   "language": "python",
   "name": "python2"
  },
  "language_info": {
   "codemirror_mode": {
    "name": "ipython",
    "version": 2
   },
   "file_extension": ".py",
   "mimetype": "text/x-python",
   "name": "python",
   "nbconvert_exporter": "python",
   "pygments_lexer": "ipython2",
   "version": "2.7.13"
  }
 },
 "nbformat": 4,
 "nbformat_minor": 0
}
