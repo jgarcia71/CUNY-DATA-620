{
 "cells": [
  {
   "cell_type": "markdown",
   "metadata": {},
   "source": [
    "# Bill Analysis\n",
    "\n",
    "This script takes the most and least central bills and analyzes their texts.\n",
    "\n",
    "We get the data about the most and least central bills from the jupyter notebook that ranks senators and bills.\n",
    "\n",
    "## Most / Least Central Bills\n",
    "\n",
    "The most central bills from our ranking script include sres254, sres292, sres193, s1616, and sres184, all with vast cosponsorship and a custom centrality measure of 9.737875, as well as slightly less central bills s1182, sres6, sres173, s1598, and s722.\n",
    "\n",
    "The least central bills include sres4, sconres1, sres16, sres7, s1848, s371, sres210, s1631, sres62, and s1662.\n",
    "\n",
    "## Getting Bill Texts\n",
    "\n",
    "Getting full texts of bills can prove challenging.  The ProPublica API does not supply full texts for bills.  We can obtain them by screen-scraping from the Government Publishing Office (GPO).  For example, the page with the text for sres254 is https://www.gpo.gov/fdsys/pkg/BILLS-115sres254ats/html/BILLS-115sres254ats.htm, while senate bill 1616 has several versions, each of which represents a state of the legislation as it goes through consideration.  The final text can be found at https://www.gpo.gov/fdsys/pkg/BILLS-115s1616enr/html/BILLS-115s1616enr.htm .\n",
    "\n",
    "Some investigation and experimentation reveals that the URL we seek can be composed like this:\n",
    "\n",
    "* `https://www.gpo.gov/fdsys/pkg/BILLS-115s1616enr/html/BILLS-115s1616enr.htm` \n",
    "* bill stub (e.g. \"sres254\" or \"s1616\") \n",
    "* code for stage of legislation \n",
    " -  for bills we find: Introduced = \"is\", Referred in House = \"rfh\", Reported = \"rs\", Placed on Calendar = \"pcs\", Engrossed = \"es\", Enrolled = \"enr\"\n",
    " -  for resolutions we find: Introduced = \"is\" , Reported = \"rs\", Agreed to = \"ats\"\n",
    " -  more info about these codes and what they mean can be found at https://www.senate.gov/reference/Printedlegislationkey.htm or  https://www.gpo.gov/help/index.html#about_congressional_bills.htm\n",
    "* `/html/BILLS-115s`\n",
    "* bill stub \n",
    "* code for stage of legislation\n",
    "* `.htm`\n",
    "\n",
    "When we look at the html of a given bill or resolution, we also discover that there's a non-trivial amount of metadata included, such as the legislative sponsors, which we'll want to discard for text analysis (we only want to analyze the contents of the legislation itself).  For example, resolutions have a long separator line followed by the word \"RESOLUTION\".  Everything above that is non-interesting to us (sponsor names and other metadata).  Bills are a little different: they also have a separator line which could be followed by A BILL or AN ACT.\n",
    "\n",
    "So, we have several challenges:\n",
    "\n",
    "* identify the legislative stage of the bill or resolution so we can find the most up-to-date text\n",
    "* construct the URL\n",
    "* obtain, parse, and scrape the html\n",
    "* from the text scraped, obtain just the bill or resolution text (as opposed to the list of sponsors, for example)\n",
    "\n",
    "Let's set up a few variables with data we'll need."
   ]
  },
  {
   "cell_type": "code",
   "execution_count": 2,
   "metadata": {
    "collapsed": true
   },
   "outputs": [],
   "source": [
    "most_central = ['sres254', 'sres292', 'sres193', 's1616', 'sres184', 's1182', 'sres6', 'sres173', 's1598', 's722']\n",
    "least_central = ['sres4', 'sconres1', 'sres16', 'sres7', 's1848', 's371', 'sres210', 's1631', 'sres62', 's1662']\n",
    "bill_status = ['enr', 'es', 'rs', 'rfh', 'is'] # latest to earliest stages\n",
    "resolution_status = ['ats', 'rs', 'is']  # latest to earliest stages"
   ]
  },
  {
   "cell_type": "markdown",
   "metadata": {},
   "source": [
    "Ideally we'd like to set up a system that would construct these URL's.  For now we just manually obtained them from the GPO website."
   ]
  },
  {
   "cell_type": "code",
   "execution_count": 4,
   "metadata": {
    "collapsed": true
   },
   "outputs": [],
   "source": [
    "more_central_legislation = [\"https://www.gpo.gov/fdsys/pkg/BILLS-115sres254ats/html/BILLS-115sres254ats.htm\",\n",
    "\"https://www.gpo.gov/fdsys/pkg/BILLS-115sres292ats/html/BILLS-115sres292ats.htm\",\n",
    "\"https://www.gpo.gov/fdsys/pkg/BILLS-115sres193ats/html/BILLS-115sres193ats.htm\",\n",
    "\"https://www.gpo.gov/fdsys/pkg/BILLS-115s1616enr/html/BILLS-115s1616enr.htm\",\n",
    "\"https://www.gpo.gov/fdsys/pkg/BILLS-115sres184ats/html/BILLS-115sres184ats.htm\",\n",
    "\"https://www.gpo.gov/fdsys/pkg/BILLS-115s1182es/html/BILLS-115s1182es.htm\",\n",
    "\"https://www.gpo.gov/fdsys/pkg/BILLS-115sres6rs/html/BILLS-115sres6rs.htm\",\n",
    "\"https://www.gpo.gov/fdsys/pkg/BILLS-115sres173ats/html/BILLS-115sres173ats.htm\",\n",
    "\"https://www.gpo.gov/fdsys/pkg/BILLS-115s1598rs/html/BILLS-115s1598rs.htm\",\n",
    "\"https://www.gpo.gov/fdsys/pkg/BILLS-115s722es/html/BILLS-115s722es.htm\"]\n",
    "\n",
    "less_central_legislation = [\"https://www.gpo.gov/fdsys/pkg/BILLS-115sres4is/html/BILLS-115sres4is.htm\",\n",
    "\"https://www.gpo.gov/fdsys/pkg/BILLS-115sconres1enr/html/BILLS-115sconres1enr.htm\",\n",
    "\"https://www.gpo.gov/fdsys/pkg/BILLS-115sres16ats/html/BILLS-115sres16ats.htm\",\n",
    "\"https://www.gpo.gov/fdsys/pkg/BILLS-115sres7ats/html/BILLS-115sres7ats.htm\",\n",
    "\"https://www.gpo.gov/fdsys/pkg/BILLS-115s1848pcs/html/BILLS-115s1848pcs.htm\",\n",
    "\"https://www.gpo.gov/fdsys/pkg/BILLS-115s371enr/html/BILLS-115s371enr.htm\",\n",
    "\"https://www.gpo.gov/fdsys/pkg/BILLS-115sres210ats/html/BILLS-115sres210ats.htm\",\n",
    "\"https://www.gpo.gov/fdsys/pkg/BILLS-115s1631rs/html/BILLS-115s1631rs.htm\",\n",
    "\"https://www.gpo.gov/fdsys/pkg/BILLS-115sres62pcs/html/BILLS-115sres62pcs.htm\",\n",
    "\"https://www.gpo.gov/fdsys/pkg/BILLS-115s1662pcs/html/BILLS-115s1662pcs.htm\"]"
   ]
  },
  {
   "cell_type": "markdown",
   "metadata": {},
   "source": [
    "Obtain the text of the bill"
   ]
  },
  {
   "cell_type": "code",
   "execution_count": 126,
   "metadata": {
    "collapsed": false
   },
   "outputs": [],
   "source": [
    "from bs4 import BeautifulSoup\n",
    "import requests\n",
    "import re\n",
    "\n",
    "more_central_legislation_text = \"\"\n",
    "less_central_legislation_text = \"\"\n",
    "def create_corpus(urllist): \n",
    "    legislation_text = \"\"\n",
    "    for url in urllist:\n",
    "        r = requests.get(url)\n",
    "        soup = BeautifulSoup(r.text, 'html.parser')\n",
    "        s = soup.find('pre').find_all(text=True, recursive=False)\n",
    "        clean = str(s).replace('\\\\n','')\n",
    "        split = re.split(\"_{20,}\\s*(AN ACT|RESOLUTION|A BILL)\", clean)\n",
    "        legislation = \" \".join(split[1:])\n",
    "        legislation = legislation.replace('.',' ') # keep.this from being keepthis\n",
    "        legislation = legislation.replace('-',' ')\n",
    "        legislation = legislation.replace('`',' ')\n",
    "        legislation = legislation.replace(';',' ')\n",
    "        legislation_text += legislation\n",
    "    return(legislation_text)\n",
    "\n",
    "more_central_legislation_text = create_corpus(more_central_legislation)\n",
    "less_central_legislation_text = create_corpus(less_central_legislation)"
   ]
  },
  {
   "cell_type": "markdown",
   "metadata": {},
   "source": [
    "## Comparing Corpora: Most vs. Least Central\n",
    "\n",
    "Now that we have two corpora -- most and least central legislation in the 115th Senate -- we can detect if there is any linguistic differences detectable in the text.  We're looking, specifically, for distinctive vocabulary. We can do this using TF-IDF (term frequency - inverse document frequency) analysis using ScikitLearn and NLTK."
   ]
  },
  {
   "cell_type": "code",
   "execution_count": 160,
   "metadata": {
    "collapsed": false
   },
   "outputs": [],
   "source": [
    "from string import punctuation\n",
    "import string\n",
    "from nltk.corpus import stopwords\n",
    "from nltk import word_tokenize\n",
    "\n",
    "# Add some known stop words as well as punctuation\n",
    "stop_words = stopwords.words('english') + list(punctuation) + \\\n",
    "            list(['`', 'united', 'states', 'resolution', 'act', 'bill', 'shall', 'section', 'subsection',\n",
    "                 'sec', 'paragraph', 'subparagraph'])\n",
    "def tokenize(text):\n",
    "    words = word_tokenize(text)\n",
    "    words = [w.lower() for w in words]\n",
    "    return [w for w in words if w not in stop_words and not w.isdigit()]\n"
   ]
  },
  {
   "cell_type": "code",
   "execution_count": 161,
   "metadata": {
    "collapsed": false
   },
   "outputs": [],
   "source": [
    "vocabulary = set()\n",
    "vocabulary.update(tokenize(more_central_legislation_text))\n",
    "vocabulary.update(tokenize(less_central_legislation_text))\n",
    "vocabulary = list(vocabulary)"
   ]
  },
  {
   "cell_type": "code",
   "execution_count": 162,
   "metadata": {
    "collapsed": false
   },
   "outputs": [],
   "source": [
    "from sklearn.feature_extraction.text import TfidfVectorizer\n",
    " \n",
    "tfidf_model = TfidfVectorizer(analyzer='word', stop_words=stop_words, tokenizer=tokenize, vocabulary=vocabulary)\n",
    " \n",
    "# Transform a document into TfIdf coordinates\n",
    "tfidf_matrix = tfidf_model.fit_transform([more_central_legislation_text, less_central_legislation_text])\n",
    "feature_names = tfidf_model.get_feature_names() "
   ]
  },
  {
   "cell_type": "markdown",
   "metadata": {},
   "source": [
    "## Convert from Sparse Matrix to Understandable List"
   ]
  },
  {
   "cell_type": "code",
   "execution_count": 163,
   "metadata": {
    "collapsed": false
   },
   "outputs": [],
   "source": [
    "dense = tfidf_matrix.todense()\n",
    "most = dense[0].tolist()[0]\n",
    "least = dense[1].tolist()[0]"
   ]
  },
  {
   "cell_type": "code",
   "execution_count": 164,
   "metadata": {
    "collapsed": false
   },
   "outputs": [],
   "source": [
    "most_phrase_scores = [pair for pair in zip(range(0, len(most)), most)]\n",
    "least_phrase_scores = [pair for pair in zip(range(0, len(least)), least)]"
   ]
  },
  {
   "cell_type": "markdown",
   "metadata": {},
   "source": [
    "## Sort by Highest TF-IDF and display"
   ]
  },
  {
   "cell_type": "code",
   "execution_count": 165,
   "metadata": {
    "collapsed": false
   },
   "outputs": [
    {
     "name": "stdout",
     "output_type": "stream",
     "text": [
      "sanctions            0.198727800339\n",
      "russian              0.177296370891\n",
      "federation           0.173881047315\n",
      "secretary            0.173399747355\n",
      "president            0.163658188515\n",
      "person               0.157813253211\n",
      "respect              0.139304291414\n",
      "educational          0.137355979646\n",
      "described            0.136381823762\n",
      "program              0.135407667878\n",
      "title                0.134433511994\n",
      "assistance           0.116898706082\n",
      "may                  0.114950394314\n",
      "report               0.110079614894\n",
      "ukraine              0.106793084178\n",
      "foreign              0.10423467959\n",
      "date                 0.103260523706\n",
      "inserting            0.0954672766335\n",
      "committee            0.0915706530975\n",
      "appropriate          0.0896223413294\n",
      "government           0.0886481854454\n",
      "veterans             0.0866998736774\n",
      "national             0.0837774060253\n",
      "general              0.0828032501413\n",
      "striking             0.0818290942573\n",
      "state                0.0808549383733\n",
      "iran                 0.0807793841857\n",
      "joint                0.0789066266053\n",
      "security             0.0759841589532\n",
      "term                 0.0750100030692\n",
      "congressional        0.0730616913012\n",
      "following            0.0730616913012\n",
      "financial            0.0720875354172\n",
      "relating             0.0701392236491\n",
      "affairs              0.0691650677651\n",
      "including            0.0691650677651\n",
      "education            0.0691650677651\n",
      "order                0.0681909118811\n",
      "committees           0.0662426001131\n",
      "support              0.065268444229\n",
      "individual           0.065268444229\n",
      "entitlement          0.0643496789276\n",
      "property             0.064294288345\n",
      "congress             0.064294288345\n",
      "amended              0.061371820693\n",
      "period               0.059423508925\n",
      "international        0.0574751971569\n",
      "chapter              0.0565010412729\n",
      "house                0.0565010412729\n",
      "services             0.0555268853889\n",
      "senate               0.0555268853889\n",
      "code                 0.0545527295049\n",
      "institution          0.0545527295049\n",
      "law                  0.0535785736209\n",
      "days                 0.0535785736209\n",
      "subject              0.0535785736209\n",
      "enactment            0.0535785736209\n",
      "europe               0.0533965420888\n",
      "whereas              0.052027399984\n",
      "department           0.0516302618528\n",
      "persons              0.0496819500848\n",
      "certain              0.0487077942008\n",
      "activities           0.0487077942008\n",
      "new                  0.0477336383168\n",
      "efforts              0.0477336383168\n",
      "provided             0.0467594824328\n",
      "executive            0.0467594824328\n",
      "coins                0.0465508315646\n",
      "information          0.0448111706647\n",
      "impose               0.043812547355\n",
      "year                 0.0428628588967\n",
      "activity             0.0428628588967\n",
      "made                 0.0428628588967\n",
      "institutions         0.0418887030127\n",
      "imposition           0.0410742631453\n",
      "illicit              0.0399403912446\n",
      "action               0.0389662353606\n",
      "blocking             0.0383359789356\n",
      "later                0.0379920794766\n",
      "case                 0.0379920794766\n",
      "energy               0.0379920794766\n",
      "application          0.0379920794766\n",
      "means                0.0379920794766\n",
      "disapproval          0.0379920794766\n",
      "paragraphs           0.0370179235926\n",
      "use                  0.0370179235926\n",
      "veteran              0.0369668368307\n",
      "influence            0.0369668368307\n",
      "course               0.0355976947259\n",
      "august               0.0355976947259\n",
      "federal              0.0350696118246\n",
      "finance              0.0340954559405\n",
      "members              0.0340954559405\n",
      "significant          0.0340954559405\n",
      "individuals          0.0331213000565\n",
      "treasury             0.0331213000565\n",
      "defense              0.0331213000565\n",
      "legion               0.0328594105162\n",
      "submit               0.0321471441725\n",
      "terrorism            0.0321471441725\n"
     ]
    }
   ],
   "source": [
    "sorted_most_phrase_scores = sorted(most_phrase_scores, key=lambda t: t[1] * -1)\n",
    "for phrase, score in [(feature_names[word_id], score) for (word_id, score) in sorted_most_phrase_scores\n",
    "                      if len(feature_names[word_id]) >2][:100]:\n",
    "   print('{0: <20} {1}'.format(phrase, score))"
   ]
  },
  {
   "cell_type": "code",
   "execution_count": 166,
   "metadata": {
    "collapsed": false
   },
   "outputs": [
    {
     "name": "stdout",
     "output_type": "stream",
     "text": [
      "expenses             0.191430546723\n",
      "department           0.187872358122\n",
      "committee            0.186449082682\n",
      "available            0.172927965999\n",
      "may                  0.170793052838\n",
      "provided             0.170793052838\n",
      "authorized           0.164388313357\n",
      "exceed               0.155848660715\n",
      "public               0.13236461595\n",
      "including            0.128094789629\n",
      "law                  0.127383151908\n",
      "secretary            0.115285310666\n",
      "services             0.112438759785\n",
      "expended             0.110303846625\n",
      "title                0.108880571184\n",
      "funds                0.103187469423\n",
      "period               0.098917643102\n",
      "government           0.0932245413408\n",
      "general              0.0910896281803\n",
      "programs             0.0889547150198\n",
      "senate               0.0825499755384\n",
      "activities           0.0789917869376\n",
      "national             0.0789917869376\n",
      "report               0.0775685114973\n",
      "foreign              0.0775685114973\n",
      "year                 0.0732986851763\n",
      "information          0.0725870474562\n",
      "reorganization       0.0700127389708\n",
      "program              0.0697404965755\n",
      "september            0.0690288588554\n",
      "necessary            0.0683172211352\n",
      "training             0.0668939456949\n",
      "state                0.0647590325344\n",
      "security             0.0633357570941\n",
      "made                 0.062624119374\n",
      "fiscal               0.0604892062135\n",
      "research             0.0597775684933\n",
      "office               0.0590659307732\n",
      "federal              0.0590659307732\n",
      "agency               0.058354293053\n",
      "justice              0.0576426553328\n",
      "rules                0.0569310176127\n",
      "appropriate          0.0569310176127\n",
      "consultants          0.0550100091913\n",
      "trafficking          0.0547961044522\n",
      "remain               0.0547961044522\n",
      "development          0.0547961044522\n",
      "committees           0.0547961044522\n",
      "personnel            0.0533728290119\n",
      "administration       0.0526611912917\n",
      "corruption           0.0519495535716\n",
      "use                  0.0512379158514\n",
      "days                 0.0505262781313\n",
      "commerce             0.0500090992648\n",
      "procedures           0.0498146404111\n",
      "organizations        0.0491030026909\n",
      "pursuant             0.0491030026909\n",
      "assistance           0.0483913649708\n",
      "international        0.0476797272506\n",
      "specified            0.0476797272506\n",
      "code                 0.0476797272506\n",
      "individual           0.0476797272506\n",
      "appropriations       0.0469680895305\n",
      "date                 0.0455448140902\n",
      "amounts              0.0455448140902\n",
      "february             0.0455448140902\n",
      "congress             0.04483317637\n",
      "used                 0.04483317637\n",
      "enforcement          0.04483317637\n",
      "country              0.0441215386498\n",
      "procurement          0.0441215386498\n",
      "project              0.0430078253678\n",
      "following            0.0426982632095\n",
      "transfer             0.0426982632095\n",
      "staff                0.0419866254894\n",
      "congressional        0.0412749877692\n",
      "fund                 0.0412749877692\n",
      "later                0.040563350049\n",
      "related              0.040563350049\n",
      "special              0.040563350049\n",
      "women                0.0400072794119\n",
      "legislative          0.0398517123289\n",
      "thereof              0.0391400746087\n",
      "appropriated         0.0391400746087\n",
      "october              0.0384284368886\n",
      "service              0.0377167991684\n",
      "professional         0.0377167991684\n",
      "salaries             0.037006733456\n",
      "standing             0.0362935237281\n",
      "none                 0.0350063694854\n",
      "plan                 0.0348702482878\n",
      "described            0.0348702482878\n",
      "enactment            0.0341586105676\n",
      "inserting            0.0341586105676\n",
      "support              0.0334469728475\n",
      "grants               0.0334469728475\n",
      "diplomacy            0.0330060055148\n",
      "management           0.0327353351273\n",
      "authority            0.0327353351273\n",
      "construction         0.0327353351273\n"
     ]
    }
   ],
   "source": [
    "sorted_least_phrase_scores = sorted(least_phrase_scores, key=lambda t: t[1] * -1)\n",
    "for phrase, score in [(feature_names[word_id], score) for (word_id, score) in sorted_least_phrase_scores\n",
    "    if len(feature_names[word_id]) >2][:100]:\n",
    "   print('{0: <20} {1}'.format(phrase, score))"
   ]
  },
  {
   "cell_type": "code",
   "execution_count": null,
   "metadata": {
    "collapsed": true
   },
   "outputs": [],
   "source": []
  },
  {
   "cell_type": "code",
   "execution_count": null,
   "metadata": {
    "collapsed": true
   },
   "outputs": [],
   "source": []
  }
 ],
 "metadata": {
  "kernelspec": {
   "display_name": "Python 2",
   "language": "python",
   "name": "python2"
  },
  "language_info": {
   "codemirror_mode": {
    "name": "ipython",
    "version": 2
   },
   "file_extension": ".py",
   "mimetype": "text/x-python",
   "name": "python",
   "nbconvert_exporter": "python",
   "pygments_lexer": "ipython2",
   "version": "2.7.13"
  }
 },
 "nbformat": 4,
 "nbformat_minor": 0
}
