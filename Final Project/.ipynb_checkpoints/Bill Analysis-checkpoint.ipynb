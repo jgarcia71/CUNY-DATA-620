{
 "cells": [
  {
   "cell_type": "markdown",
   "metadata": {},
   "source": [
    "# Bill Analysis\n",
    "\n",
    "This script takes the most and least central bills and analyzes their texts.\n",
    "\n",
    "We get the data about the most and least central bills from the jupyter notebook that ranks senators and bills.\n",
    "\n",
    "## Most Central Bills\n",
    "\n",
    "The most central bills from our ranking script include sres254, sres292, sres193, s1616, and sres184, all with vast cosponsorship and a custom centrality measure of 9.737875, as well as slightly less central bills s1182, sres6, sres173, s1598, and s722.\n",
    "\n",
    "The least central bills include sres4, sconres1, sres16, sres7, s1848, s371, sres210, s1631, sres62, and s1662."
   ]
  },
  {
   "cell_type": "code",
   "execution_count": 1,
   "metadata": {
    "collapsed": true
   },
   "outputs": [],
   "source": [
    "most_central = ['sres254', 'sres292', 'sres193', 's1616', 'sres184', 's1182', 'sres6', 'sres173', 's1598', 's722']\n",
    "least_central = ['sres4', 'sconres1', 'sres16', 'sres7', 's1848', 's371', 'sres210', 's1631', 'sres62', 's1662']"
   ]
  },
  {
   "cell_type": "markdown",
   "metadata": {},
   "source": [
    "## Set up ProPublica API"
   ]
  },
  {
   "cell_type": "code",
   "execution_count": null,
   "metadata": {
    "collapsed": true
   },
   "outputs": [],
   "source": [
    "def propublica(url):\n",
    "    r = requests.get(url, headers={'X-API-Key': '***REDACTED***'})  \n",
    "    data = json.loads(r.text)\n",
    "    return (data)"
   ]
  }
 ],
 "metadata": {
  "kernelspec": {
   "display_name": "Python 2",
   "language": "python",
   "name": "python2"
  },
  "language_info": {
   "codemirror_mode": {
    "name": "ipython",
    "version": 2
   },
   "file_extension": ".py",
   "mimetype": "text/x-python",
   "name": "python",
   "nbconvert_exporter": "python",
   "pygments_lexer": "ipython2",
   "version": "2.7.13"
  }
 },
 "nbformat": 4,
 "nbformat_minor": 0
}
